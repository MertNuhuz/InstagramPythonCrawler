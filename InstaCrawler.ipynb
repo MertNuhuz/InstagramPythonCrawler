{
 "cells": [
  {
   "cell_type": "code",
   "execution_count": null,
   "metadata": {},
   "outputs": [],
   "source": [
    "# Kullanacağımız kütüphaneleri tanıtarak başlıyoruz.\n",
    "\n",
    "# Bot için kullandığım kütüphaneler\n",
    "from selenium import webdriver\n",
    "from selenium.webdriver.support.ui import Select,WebDriverWait\n",
    "from selenium.webdriver.common.keys import Keys\n",
    "from selenium.webdriver.common.action_chains import ActionChains\n",
    "from selenium.webdriver.support import expected_conditions as EC\n",
    "from selenium.webdriver.common.by import By\n",
    "from selenium.common.exceptions import TimeoutException\n",
    "# Çıktı alma işlemi için kullandığım kütüphaneler\n",
    "import matplotlib.pyplot as plt # Görselleştirme \n",
    "import time\n",
    "# Emojileri barındıran kütüphanemiz\n",
    "import emoji\n"
   ]
  },
  {
   "cell_type": "code",
   "execution_count": null,
   "metadata": {},
   "outputs": [],
   "source": [
    "def getComments(username,which_post):\n",
    "    \n",
    "    # Botun gideceği adresi tanıtıyoruz.\n",
    "    url = \"https://www.instagram.com/\"+username\n",
    "    \n",
    "    driver = webdriver.Chrome()\n",
    "    driver.implicitly_wait(10)\n",
    "    driver.get(url)\n",
    "\n",
    "    links = []\n",
    "    # Gidilen adresteki başlıkların genel olarak içinde bulunduğu adresi xpath olarak veriyoruz.\n",
    "    for i in range(1,8):\n",
    "        for s in range(1,4):\n",
    "            obje = driver.find_element_by_xpath('//article[@class=\"FyNDV\"]/div[1]/div/div['+str(i)+']/div['+str(s)+']/a')\n",
    "            links.append(obje.get_attribute(\"href\"))\n",
    "    driver.get(links[which_post])\n",
    "    does_it_continue=True\n",
    "    while does_it_continue:\n",
    "        try:            \n",
    "            if driver.current_url != links[which_post]:\n",
    "                driver.back()\n",
    "            else:\n",
    "                loadMoreButton = driver.find_element_by_xpath('//ul[@class =\"k59kT\"]/li[2]/button[@type=\"button\"][.=\"Daha fazla yorum yükle\"]')\n",
    "                if loadMoreButton.is_enabled():\n",
    "                    ActionChains(driver).move_to_element(loadMoreButton).click(loadMoreButton).perform()\n",
    "                    time.sleep(3)\n",
    "                else:\n",
    "                    continue\n",
    "        except:\n",
    "            get_comments = driver.find_elements_by_xpath('//ul[@class =\"k59kT\"]/li/div/div/div')\n",
    "            does_it_continue = False\n",
    "    # Ardından bu adreste bulunan her bir başlığı bir stringe alıyoruz.\n",
    "    for option in get_comments:\n",
    "        print(option.find_element_by_xpath('span').text)\n",
    "        headers.append(option.find_element_by_xpath('span').text)\n",
    "    return headers\n"
   ]
  },
  {
   "cell_type": "code",
   "execution_count": null,
   "metadata": {
    "scrolled": false
   },
   "outputs": [],
   "source": [
    "comments = []\n",
    "comments = getComments(\"ahmtkural\",0) # 10 yıl önceki başlıkları çekiyoruz."
   ]
  },
  {
   "cell_type": "code",
   "execution_count": null,
   "metadata": {},
   "outputs": [],
   "source": [
    "len(comments)"
   ]
  },
  {
   "cell_type": "code",
   "execution_count": null,
   "metadata": {},
   "outputs": [],
   "source": [
    "def extract_emojis(str):\n",
    "    return(''.join(c for c in str if c in emoji.UNICODE_EMOJI))"
   ]
  },
  {
   "cell_type": "code",
   "execution_count": null,
   "metadata": {},
   "outputs": [],
   "source": [
    "myText = \"\"\n",
    "for comment in comments:\n",
    "    myText= myText + \" \" + comment"
   ]
  },
  {
   "cell_type": "code",
   "execution_count": null,
   "metadata": {},
   "outputs": [],
   "source": [
    "myEmojis = extract_emojis(metin)"
   ]
  },
  {
   "cell_type": "code",
   "execution_count": null,
   "metadata": {},
   "outputs": [],
   "source": [
    "posEmoji = \"😀😃😄😁😆😅😂🤣☺😊😇🙂🙃😉😌😍😘😗😙😚😋😛😝😜🤪💞🤩😏😭🤗💕❤️💙🧡💚💯👑❣️💖💫⭐🌟✨⚡🔥\"\n",
    "negEmoji = \"😞😔😟😕🙁☹😣😖😫😩😢😓😪😭😤😠😡🤬🤯🤢🤮😷❌❗🤒🤕👹👺👻💀👽😾🖕🏿👎🏻👎🧟‍♂🧟‍♀\""
   ]
  },
  {
   "cell_type": "code",
   "execution_count": null,
   "metadata": {
    "scrolled": false
   },
   "outputs": [],
   "source": [
    "posEmojiCount = 0\n",
    "negEmojiCount = 0\n",
    "notrCount = 0\n",
    "for seciliEmoji in emojiler:\n",
    "    if seciliEmoji in posEmoji:        \n",
    "        posEmojiCount += 1\n",
    "    elif seciliEmoji in negEmoji:\n",
    "        negEmojiCount += 1\n",
    "    else:\n",
    "        notrCount += 1\n",
    "totalMarkedEmojiCount = negEmojiCount + posEmojiCount + notrCount\n",
    "totalMarkedEmojiCount"
   ]
  },
  {
   "cell_type": "code",
   "execution_count": null,
   "metadata": {},
   "outputs": [],
   "source": [
    "labels = 'Pozitif Emojiler', 'Negatif Emojiler', 'Notr Emojiler' #pastadaki başlıkları tanımlıyoruz.\n",
    "sizes = [posEmojiCount,negEmojiCount, notrCount ] #pastada gözükecek verileri tanımlıyoruz.\n",
    " \n",
    "fig1, ax1 = plt.subplots()\n",
    "ax1.pie(sizes, labels=labels, autopct='%1.1f%%',\n",
    "        shadow=True, startangle=90)\n",
    "ax1.axis('equal')\n",
    "plt.title(\"Instagram Sosyal Analizi\") \n",
    "plt.savefig(\"analizCikti.png\")\n",
    "plt.show() #oluşturduğumuz pastayı çıktı alıyoruz."
   ]
  },
  {
   "cell_type": "code",
   "execution_count": null,
   "metadata": {},
   "outputs": [],
   "source": []
  }
 ],
 "metadata": {
  "kernelspec": {
   "display_name": "Python 3",
   "language": "python",
   "name": "python3"
  },
  "language_info": {
   "codemirror_mode": {
    "name": "ipython",
    "version": 3
   },
   "file_extension": ".py",
   "mimetype": "text/x-python",
   "name": "python",
   "nbconvert_exporter": "python",
   "pygments_lexer": "ipython3",
   "version": "3.6.5"
  }
 },
 "nbformat": 4,
 "nbformat_minor": 2
}
